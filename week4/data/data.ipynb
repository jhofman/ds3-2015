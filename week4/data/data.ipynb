{
 "metadata": {
  "language_info": {
   "codemirror_mode": {
    "name": "ipython",
    "version": 3
   },
   "file_extension": ".py",
   "mimetype": "text/x-python",
   "name": "python",
   "nbconvert_exporter": "python",
   "pygments_lexer": "ipython3",
   "version": "3.6.13-final"
  },
  "orig_nbformat": 2,
  "kernelspec": {
   "name": "python3",
   "display_name": "Python 3"
  }
 },
 "nbformat": 4,
 "nbformat_minor": 2,
 "cells": [
  {
   "cell_type": "markdown",
   "metadata": {},
   "source": [
    "# Datasets and preprocessing"
   ]
  },
  {
   "cell_type": "markdown",
   "metadata": {},
   "source": [
    "## Datasets\n",
    "This notebook includes all the datasets from the data sources mentioned in the paper, including data from the Johns Hopkins University Center for Systems Science and Engineering, and data from The New York Times."
   ]
  },
  {
   "cell_type": "markdown",
   "metadata": {},
   "source": [
    "### Global data from JHU"
   ]
  },
  {
   "cell_type": "code",
   "execution_count": 37,
   "metadata": {
    "tags": []
   },
   "outputs": [
    {
     "output_type": "stream",
     "name": "stdout",
     "text": "sample confirm_table\n  Province/State Country/Region       Lat       Long  1/22/20  1/23/20  \\\n0            NaN    Afghanistan  33.93911  67.709953        0        0   \n1            NaN        Albania  41.15330  20.168300        0        0   \n2            NaN        Algeria  28.03390   1.659600        0        0   \n3            NaN        Andorra  42.50630   1.521800        0        0   \n4            NaN         Angola -11.20270  17.873900        0        0   \n\n   1/24/20  1/25/20  1/26/20  1/27/20  ...  6/3/21  6/4/21  6/5/21  6/6/21  \\\n0        0        0        0        0  ...   75119   76628   77963   79224   \n1        0        0        0        0  ...  132360  132372  132374  132379   \n2        0        0        0        0  ...  129976  130361  130681  130958   \n3        0        0        0        0  ...   13752   13758   13758   13758   \n4        0        0        0        0  ...   35140   35307   35594   35772   \n\n   6/7/21  6/8/21  6/9/21  6/10/21  6/11/21  6/12/21  \n0   80841   82326   84050    85892    87716    88740  \n1  132384  132397  132415   132426   132437   132449  \n2  131283  131647  132034   132355   132727   133070  \n3   13777   13781   13791    13805    13813    13813  \n4   35854   36004   36115    36325    36455    36600  \n\n[5 rows x 512 columns]\nsample death_table\n  Province/State Country/Region       Lat       Long  1/22/20  1/23/20  \\\n0            NaN    Afghanistan  33.93911  67.709953        0        0   \n1            NaN        Albania  41.15330  20.168300        0        0   \n2            NaN        Algeria  28.03390   1.659600        0        0   \n3            NaN        Andorra  42.50630   1.521800        0        0   \n4            NaN         Angola -11.20270  17.873900        0        0   \n\n   1/24/20  1/25/20  1/26/20  1/27/20  ...  6/3/21  6/4/21  6/5/21  6/6/21  \\\n0        0        0        0        0  ...    3034    3068    3104    3145   \n1        0        0        0        0  ...    2451    2451    2451    2451   \n2        0        0        0        0  ...    3497    3504    3510    3518   \n3        0        0        0        0  ...     127     127     127     127   \n4        0        0        0        0  ...     784     788     794     797   \n\n   6/7/21  6/8/21  6/9/21  6/10/21  6/11/21  6/12/21  \n0    3187    3251    3305     3356     3412     3449  \n1    2452    2452    2452     2452     2453     2453  \n2    3527    3537    3544     3552     3560     3565  \n3     127     127     127      127      127      127  \n4     800     803     811      815      819      825  \n\n[5 rows x 512 columns]\nsample recover_table\n  Province/State Country/Region       Lat       Long  1/22/20  1/23/20  \\\n0            NaN    Afghanistan  33.93911  67.709953        0        0   \n1            NaN        Albania  41.15330  20.168300        0        0   \n2            NaN        Algeria  28.03390   1.659600        0        0   \n3            NaN        Andorra  42.50630   1.521800        0        0   \n4            NaN         Angola -11.20270  17.873900        0        0   \n\n   1/24/20  1/25/20  1/26/20  1/27/20  ...  6/3/21  6/4/21  6/5/21  6/6/21  \\\n0        0        0        0        0  ...   58070   58144   58265   58622   \n1        0        0        0        0  ...  129566  129598  129627  129664   \n2        0        0        0        0  ...   90517   90767   90995   91198   \n3        0        0        0        0  ...   13527   13527   13527   13527   \n4        0        0        0        0  ...   28646   28802   28866   28880   \n\n   6/7/21  6/8/21  6/9/21  6/10/21  6/11/21  6/12/21  \n0   58998   59569   59871    60280    60598    60939  \n1  129702  129736  129761   129785   129807   129826  \n2   91413   91651   91894    92132    92384    92620  \n3   13557   13557   13569    13578    13591    13591  \n4   29329   29368   29553    29960    30101    30207  \n\n[5 rows x 512 columns]\n"
    }
   ],
   "source": [
    "\"\"\"Get dataset from JHU\n",
    "\"\"\"\n",
    "import pandas as pd\n",
    "\n",
    "confirm = 'https://raw.githubusercontent.com/CSSEGISandData/COVID-19/master/csse_covid_19_data/csse_covid_19_time_series/time_series_covid19_confirmed_global.csv'\n",
    "death = 'https://raw.githubusercontent.com/CSSEGISandData/COVID-19/master/csse_covid_19_data/csse_covid_19_time_series/time_series_covid19_deaths_global.csv'\n",
    "recover = 'https://raw.githubusercontent.com/CSSEGISandData/COVID-19/master/csse_covid_19_data/csse_covid_19_time_series/time_series_covid19_recovered_global.csv'\n",
    "confirm_table = pd.read_csv(confirm)\n",
    "death_table = pd.read_csv(death)\n",
    "recover_table = pd.read_csv(recover)\n",
    "\n",
    "print('sample confirm_table')\n",
    "print(confirm_table[0:5])\n",
    "print('sample death_table')\n",
    "print(death_table[0:5])\n",
    "print('sample recover_table')\n",
    "print(recover_table[0:5])"
   ]
  },
  {
   "cell_type": "markdown",
   "metadata": {},
   "source": [
    "### US data from JHU"
   ]
  },
  {
   "cell_type": "code",
   "execution_count": 38,
   "metadata": {
    "tags": []
   },
   "outputs": [
    {
     "output_type": "stream",
     "name": "stdout",
     "text": "us states: ['Alabama' 'Alaska' 'American Samoa' 'Arizona' 'Arkansas' 'California'\n 'Colorado' 'Connecticut' 'Delaware' 'Diamond Princess'\n 'District of Columbia' 'Florida' 'Georgia' 'Grand Princess' 'Guam'\n 'Hawaii' 'Idaho' 'Illinois' 'Indiana' 'Iowa' 'Kansas' 'Kentucky'\n 'Louisiana' 'Maine' 'Maryland' 'Massachusetts' 'Michigan' 'Minnesota'\n 'Mississippi' 'Missouri' 'Montana' 'Nebraska' 'Nevada' 'New Hampshire'\n 'New Jersey' 'New Mexico' 'New York' 'North Carolina' 'North Dakota'\n 'Northern Mariana Islands' 'Ohio' 'Oklahoma' 'Oregon' 'Pennsylvania'\n 'Puerto Rico' 'Rhode Island' 'South Carolina' 'South Dakota' 'Tennessee'\n 'Texas' 'Utah' 'Vermont' 'Virgin Islands' 'Virginia' 'Washington'\n 'West Virginia' 'Wisconsin' 'Wyoming']\n        UID iso2 iso3  code3    FIPS   Admin2 Province_State Country_Region  \\\n0  84001001   US  USA    840  1001.0  Autauga        Alabama             US   \n1  84001003   US  USA    840  1003.0  Baldwin        Alabama             US   \n2  84001005   US  USA    840  1005.0  Barbour        Alabama             US   \n3  84001007   US  USA    840  1007.0     Bibb        Alabama             US   \n4  84001009   US  USA    840  1009.0   Blount        Alabama             US   \n\n         Lat      Long_  ... 6/3/21  6/4/21  6/5/21  6/6/21  6/7/21  6/8/21  \\\n0  32.539527 -86.644082  ...   7172    7186    7186    7186    7206    7206   \n1  30.727750 -87.722071  ...  21684   21698   21698   21698   21724   21744   \n2  31.868263 -85.387129  ...   2343    2342    2342    2342    2343    2345   \n3  32.996421 -87.125115  ...   2665    2666    2666    2666    2667    2669   \n4  33.982109 -86.567906  ...   6894    6906    6906    6906    6916    6918   \n\n   6/9/21  6/10/21  6/11/21  6/12/21  \n0    7209     7211     7215     7215  \n1   21755    21765    21774    21774  \n2    2346     2345     2345     2345  \n3    2670     2671     2673     2673  \n4    6921     6921     6925     6925  \n\n[5 rows x 519 columns]\n        UID iso2 iso3  code3    FIPS   Admin2 Province_State Country_Region  \\\n0  84001001   US  USA    840  1001.0  Autauga        Alabama             US   \n1  84001003   US  USA    840  1003.0  Baldwin        Alabama             US   \n2  84001005   US  USA    840  1005.0  Barbour        Alabama             US   \n3  84001007   US  USA    840  1007.0     Bibb        Alabama             US   \n4  84001009   US  USA    840  1009.0   Blount        Alabama             US   \n\n         Lat      Long_  ... 6/3/21  6/4/21  6/5/21  6/6/21  6/7/21  6/8/21  \\\n0  32.539527 -86.644082  ...    111     112     112     112     113     113   \n1  30.727750 -87.722071  ...    312     312     312     312     312     312   \n2  31.868263 -85.387129  ...     59      59      59      59      59      59   \n3  32.996421 -87.125115  ...     64      64      64      64      64      64   \n4  33.982109 -86.567906  ...    139     139     139     139     139     139   \n\n   6/9/21  6/10/21  6/11/21  6/12/21  \n0     113      113      113      113  \n1     313      313      313      313  \n2      59       59       59       59  \n3      64       64       64       64  \n4     139      139      139      139  \n\n[5 rows x 520 columns]\n"
    }
   ],
   "source": [
    "us_confirmed = 'https://raw.githubusercontent.com/CSSEGISandData/COVID-19/master/csse_covid_19_data/csse_covid_19_time_series/time_series_covid19_confirmed_US.csv'\n",
    "us_deaths = 'https://raw.githubusercontent.com/CSSEGISandData/COVID-19/master/csse_covid_19_data/csse_covid_19_time_series/time_series_covid19_deaths_US.csv'\n",
    "\n",
    "us_confirmed_tab = pd.read_csv(us_confirmed)\n",
    "us_deaths_tab = pd.read_csv(us_deaths)\n",
    "regions = df_confirm[\"Province_State\"].unique()\n",
    "print('us states:', regions)\n",
    "print(us_confirmed_tab[0:5])\n",
    "print(us_deaths_tab[0:5])"
   ]
  },
  {
   "cell_type": "markdown",
   "metadata": {},
   "source": [
    "### US data from NYTimes"
   ]
  },
  {
   "cell_type": "code",
   "execution_count": 42,
   "metadata": {
    "tags": []
   },
   "outputs": [
    {
     "output_type": "stream",
     "name": "stdout",
     "text": "['Washington' 'Illinois' 'California' 'Arizona' 'Massachusetts'\n 'Wisconsin' 'Texas' 'Nebraska' 'Utah' 'Oregon' 'Florida' 'New York'\n 'Rhode Island' 'Georgia' 'New Hampshire' 'North Carolina' 'New Jersey'\n 'Colorado' 'Maryland' 'Nevada' 'Tennessee' 'Hawaii' 'Indiana' 'Kentucky'\n 'Minnesota' 'Oklahoma' 'Pennsylvania' 'South Carolina'\n 'District of Columbia' 'Kansas' 'Missouri' 'Vermont' 'Virginia'\n 'Connecticut' 'Iowa' 'Louisiana' 'Ohio' 'Michigan' 'South Dakota'\n 'Arkansas' 'Delaware' 'Mississippi' 'New Mexico' 'North Dakota' 'Wyoming'\n 'Alaska' 'Maine' 'Alabama' 'Idaho' 'Montana' 'Puerto Rico'\n 'Virgin Islands' 'Guam' 'West Virginia' 'Northern Mariana Islands']\n         date       state  fips  cases  deaths\n0  2020-01-21  Washington    53      1       0\n1  2020-01-22  Washington    53      1       0\n2  2020-01-23  Washington    53      1       0\n3  2020-01-24    Illinois    17      1       0\n4  2020-01-24  Washington    53      1       0\n"
    }
   ],
   "source": [
    "level = 'states' # or level = 'counties'\n",
    "url = 'https://raw.githubusercontent.com/nytimes/covid-19-data/master/us-' + level + '.csv'\n",
    "table = pd.read_csv(url)\n",
    "assert not table.isnull().values.any(), 'We do not handle nan cases in NYTimes'\n",
    "state_list = table[\"state\"].unique()\n",
    "print(state_list)\n",
    "print(table[0:5])"
   ]
  },
  {
   "cell_type": "markdown",
   "metadata": {},
   "source": [
    "## TODO on the original dataset\n",
    "1. Get the data needed (i.e., confirmed cases and deaths for the target country or US state) from the original data table\n",
    "\n",
    "1. Need to be able to get the data (i.e., confirmed cases and deaths for the target country or US state) within a specified date range (start_date, end_date)."
   ]
  }
 ]
}